{
 "cells": [
  {
   "cell_type": "code",
   "execution_count": 31,
   "outputs": [],
   "source": [
    "import pandas as pd\n",
    "from scipy.spatial import distance_matrix"
   ],
   "metadata": {
    "collapsed": false,
    "pycharm": {
     "name": "#%%\n"
    }
   }
  },
  {
   "cell_type": "code",
   "execution_count": 32,
   "outputs": [],
   "source": [
    "def cal_AVG(index_list,df):\n",
    "    return list(df.loc[index_list].mean())"
   ],
   "metadata": {
    "collapsed": false,
    "pycharm": {
     "name": "#%%\n"
    }
   }
  },
  {
   "cell_type": "code",
   "execution_count": 33,
   "outputs": [],
   "source": [
    "def cal_distance_matrix(DF,U1,U2,U3):\n",
    "    df=DF.copy()\n",
    "    df.loc['U1'],df.loc['U2'],df.loc['U3']=U1,U2,U3\n",
    "    matrix=pd.DataFrame(distance_matrix(df.values, df.values), index=df.index,columns=df.index)\n",
    "    simple_matrix=matrix.loc[['U1','U2','U3']][list('ABCDEF')]\n",
    "    print(simple_matrix)"
   ],
   "metadata": {
    "collapsed": false,
    "pycharm": {
     "name": "#%%\n"
    }
   }
  },
  {
   "cell_type": "markdown",
   "source": [
    "# 一开始的六个点"
   ],
   "metadata": {
    "collapsed": false,
    "pycharm": {
     "name": "#%% md\n"
    }
   }
  },
  {
   "cell_type": "code",
   "execution_count": 34,
   "outputs": [],
   "source": [
    "points=[[0,0],[2,1],[2,-1],[2.1,0],[4.1,0],[5,0]]\n",
    "df=pd.DataFrame(points,columns=['x','y'])\n",
    "df.index=list('ABCDEF')"
   ],
   "metadata": {
    "collapsed": false,
    "pycharm": {
     "name": "#%%\n"
    }
   }
  },
  {
   "cell_type": "markdown",
   "source": [
    "# 第一题"
   ],
   "metadata": {
    "collapsed": false,
    "pycharm": {
     "name": "#%% md\n"
    }
   }
  },
  {
   "cell_type": "code",
   "execution_count": 35,
   "outputs": [
    {
     "name": "stdout",
     "output_type": "stream",
     "text": [
      "      A         B         C    D    E    F\n",
      "U1  2.1  1.004988  1.004988  0.0  2.0  2.9\n",
      "U2  4.1  2.325941  2.325941  2.0  0.0  0.9\n",
      "U3  5.0  3.162278  3.162278  2.9  0.9  0.0\n"
     ]
    }
   ],
   "source": [
    "cal_distance_matrix(df,[2.1,0],[4.1,0],[5,0])"
   ],
   "metadata": {
    "collapsed": false,
    "pycharm": {
     "name": "#%%\n"
    }
   }
  },
  {
   "cell_type": "code",
   "execution_count": 42,
   "outputs": [
    {
     "name": "stdout",
     "output_type": "stream",
     "text": [
      "[1.525, 0.0]\n"
     ]
    }
   ],
   "source": [
    "new_U1=cal_AVG(list('ABCD'),df)\n",
    "print(new_U1)"
   ],
   "metadata": {
    "collapsed": false,
    "pycharm": {
     "name": "#%%\n"
    }
   }
  },
  {
   "cell_type": "code",
   "execution_count": 38,
   "outputs": [
    {
     "name": "stdout",
     "output_type": "stream",
     "text": [
      "        A         B         C      D      E      F\n",
      "U1  1.525  1.107079  1.107079  0.575  2.575  3.475\n",
      "U2  4.100  2.325941  2.325941  2.000  0.000  0.900\n",
      "U3  5.000  3.162278  3.162278  2.900  0.900  0.000\n"
     ]
    }
   ],
   "source": [
    "cal_distance_matrix(df,new_U1,[4.1,0],[5,0])"
   ],
   "metadata": {
    "collapsed": false,
    "pycharm": {
     "name": "#%%\n"
    }
   }
  },
  {
   "cell_type": "markdown",
   "source": [
    "# 第二题"
   ],
   "metadata": {
    "collapsed": false,
    "pycharm": {
     "name": "#%% md\n"
    }
   }
  },
  {
   "cell_type": "code",
   "execution_count": 40,
   "outputs": [
    {
     "name": "stdout",
     "output_type": "stream",
     "text": [
      "      A         B         C    D    E    F\n",
      "U1  0.0  2.236068  2.236068  2.1  4.1  5.0\n",
      "U2  2.1  1.004988  1.004988  0.0  2.0  2.9\n",
      "U3  4.1  2.325941  2.325941  2.0  0.0  0.9\n"
     ]
    }
   ],
   "source": [
    "cal_distance_matrix(df,[0,0],[2.1,0],[4.1,0])"
   ],
   "metadata": {
    "collapsed": false,
    "pycharm": {
     "name": "#%%\n"
    }
   }
  },
  {
   "cell_type": "code",
   "execution_count": 43,
   "outputs": [
    {
     "name": "stdout",
     "output_type": "stream",
     "text": [
      "[2.033333333333333, 0.0] [4.55, 0.0]\n"
     ]
    }
   ],
   "source": [
    "new_U2,new_U3=cal_AVG(list('BCD'),df),cal_AVG(list('EF'),df)\n",
    "print(new_U2,new_U3)"
   ],
   "metadata": {
    "collapsed": false,
    "pycharm": {
     "name": "#%%\n"
    }
   }
  },
  {
   "cell_type": "code",
   "execution_count": 44,
   "outputs": [
    {
     "name": "stdout",
     "output_type": "stream",
     "text": [
      "           A         B         C         D         E         F\n",
      "U1  0.000000  2.236068  2.236068  2.100000  4.100000  5.000000\n",
      "U2  2.033333  1.000555  1.000555  0.066667  2.066667  2.966667\n",
      "U3  4.550000  2.739069  2.739069  2.450000  0.450000  0.450000\n"
     ]
    }
   ],
   "source": [
    "cal_distance_matrix(df,[0,0],new_U2,new_U3)"
   ],
   "metadata": {
    "collapsed": false,
    "pycharm": {
     "name": "#%%\n"
    }
   }
  },
  {
   "cell_type": "markdown",
   "source": [
    "# 第三题"
   ],
   "metadata": {
    "collapsed": false,
    "pycharm": {
     "name": "#%% md\n"
    }
   }
  },
  {
   "cell_type": "code",
   "execution_count": 45,
   "outputs": [
    {
     "name": "stdout",
     "output_type": "stream",
     "text": [
      "      A         B         C    D    E    F\n",
      "U1  0.0  2.236068  2.236068  2.1  4.1  5.0\n",
      "U2  4.1  2.325941  2.325941  2.0  0.0  0.9\n",
      "U3  5.0  3.162278  3.162278  2.9  0.9  0.0\n"
     ]
    }
   ],
   "source": [
    "cal_distance_matrix(df,[0,0],[4.1,0],[5,0])"
   ],
   "metadata": {
    "collapsed": false,
    "pycharm": {
     "name": "#%%\n"
    }
   }
  },
  {
   "cell_type": "code",
   "execution_count": 46,
   "outputs": [
    {
     "name": "stdout",
     "output_type": "stream",
     "text": [
      "[1.3333333333333333, 0.0] [3.0999999999999996, 0.0]\n"
     ]
    }
   ],
   "source": [
    "new_U1,new_U2=cal_AVG(list('ABC'),df),cal_AVG(list('DE'),df)\n",
    "print(new_U1,new_U2)"
   ],
   "metadata": {
    "collapsed": false,
    "pycharm": {
     "name": "#%%\n"
    }
   }
  },
  {
   "cell_type": "code",
   "execution_count": 47,
   "outputs": [
    {
     "name": "stdout",
     "output_type": "stream",
     "text": [
      "           A         B         C         D         E         F\n",
      "U1  1.333333  1.201850  1.201850  0.766667  2.766667  3.666667\n",
      "U2  3.100000  1.486607  1.486607  1.000000  1.000000  1.900000\n",
      "U3  5.000000  3.162278  3.162278  2.900000  0.900000  0.000000\n"
     ]
    }
   ],
   "source": [
    "cal_distance_matrix(df,new_U1,new_U2,[5,0])"
   ],
   "metadata": {
    "collapsed": false,
    "pycharm": {
     "name": "#%%\n"
    }
   }
  },
  {
   "cell_type": "code",
   "execution_count": 51,
   "outputs": [
    {
     "name": "stdout",
     "output_type": "stream",
     "text": [
      "[1.525, 0.0] [3.075, 0.0] [4.55, 0.0]\n"
     ]
    }
   ],
   "source": [
    "new_U1,new_U3=cal_AVG(list('ABCD'),df),cal_AVG(list('EF'),df)\n",
    "new_U2=[(new_U1[0]+new_U2[0])/2,(new_U1[1]+new_U2[1])/2]\n",
    "print(new_U1,new_U2,new_U3)"
   ],
   "metadata": {
    "collapsed": false,
    "pycharm": {
     "name": "#%%\n"
    }
   }
  },
  {
   "cell_type": "code",
   "execution_count": 52,
   "outputs": [
    {
     "name": "stdout",
     "output_type": "stream",
     "text": [
      "        A         B         C      D      E      F\n",
      "U1  1.525  1.107079  1.107079  0.575  2.575  3.475\n",
      "U2  3.075  1.468205  1.468205  0.975  1.025  1.925\n",
      "U3  4.550  2.739069  2.739069  2.450  0.450  0.450\n"
     ]
    }
   ],
   "source": [
    "cal_distance_matrix(df,new_U1,new_U2,new_U3)"
   ],
   "metadata": {
    "collapsed": false,
    "pycharm": {
     "name": "#%%\n"
    }
   }
  }
 ],
 "metadata": {
  "kernelspec": {
   "display_name": "Python 3",
   "language": "python",
   "name": "python3"
  },
  "language_info": {
   "codemirror_mode": {
    "name": "ipython",
    "version": 2
   },
   "file_extension": ".py",
   "mimetype": "text/x-python",
   "name": "python",
   "nbconvert_exporter": "python",
   "pygments_lexer": "ipython2",
   "version": "2.7.6"
  }
 },
 "nbformat": 4,
 "nbformat_minor": 0
}