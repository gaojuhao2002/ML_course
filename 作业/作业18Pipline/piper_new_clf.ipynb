{
 "cells": [
  {
   "cell_type": "code",
   "execution_count": 4,
   "metadata": {
    "pycharm": {
     "name": "#%%\n"
    }
   },
   "outputs": [],
   "source": [
    "from sklearn.datasets import fetch_20newsgroups\n",
    "from sklearn.model_selection import train_test_split\n",
    "from sklearn.feature_extraction.text import CountVectorizer\n",
    "from sklearn.feature_extraction.text import TfidfVectorizer\n",
    "from sklearn.naive_bayes import MultinomialNB,GaussianNB\n",
    "from sklearn.metrics import f1_score\n",
    "from sklearn.pipeline import Pipeline\n",
    "from scipy.sparse import issparse\n",
    "from sklearn.model_selection import GridSearchCV"
   ]
  },
  {
   "cell_type": "markdown",
   "metadata": {
    "pycharm": {
     "name": "#%% md\n"
    }
   },
   "source": [
    "# 只修改了train_val()函数于Pipline"
   ]
  },
  {
   "cell_type": "markdown",
   "metadata": {
    "pycharm": {
     "name": "#%% md\n"
    }
   },
   "source": [
    "#### 版本1，to_array无嵌入，GaussianNB单独"
   ]
  },
  {
   "cell_type": "code",
   "execution_count": 2,
   "metadata": {
    "pycharm": {
     "name": "#%%\n"
    }
   },
   "outputs": [],
   "source": [
    "# def train_val(D,vect,nb,to_array=False):\n",
    "#     X_train,X_test, y_train, y_test=D\n",
    "#     pp=Pipeline([('vect',vect),('nb',nb)])\n",
    "\n",
    "#     if to_array:#高斯的这个差一个to_array\n",
    "#         X_train_vect=vect.fit_transform(X_train)\n",
    "#         X_test_vect=vect.transform(X_test)\n",
    "#         X_train_vect,X_test_vect=X_train_vect.toarray(),X_test_vect.toarray()\n",
    "#         nb.fit(X_train_vect,y_train)\n",
    "#         pred=nb.predict(X_test_vect)\n",
    "#     else:\n",
    "#         pp.fit(X_train,y_train)\n",
    "#         pred=pp.predict(X_test)\n",
    "#     f1_weighted=f1_score(y_test,pred,average='macro')\n",
    "#     # df_X_train=pd.DataFrame(X_train_ved.toarray(),columns=vectorizer.get_feature_names_out()) #查看矩阵形式\n",
    "#     return f1_weighted"
   ]
  },
  {
   "cell_type": "markdown",
   "metadata": {
    "pycharm": {
     "name": "#%% md\n"
    }
   },
   "source": [
    "### 版本2，to_array嵌入，自定义转化 器"
   ]
  },
  {
   "cell_type": "code",
   "execution_count": 3,
   "metadata": {
    "pycharm": {
     "name": "#%%\n"
    }
   },
   "outputs": [],
   "source": [
    "# 创建一个自定义转换器，用于将稀疏矩阵转换为密集矩阵\n",
    "class SparseToDenseTransformer:\n",
    "    def fit(self, X, y=None):\n",
    "        return self\n",
    "    def transform(self, X):\n",
    "        if issparse(X):#判断是否为稀疏矩阵\n",
    "            return X.toarray()\n",
    "        return X\n",
    "def train_val(D,vect,nb,to_array=False):\n",
    "    X_train,X_test, y_train, y_test=D\n",
    "    if to_array:\n",
    "        pp=Pipeline([('vect',vect),('hiden',SparseToDenseTransformer()),('nb',nb)])\n",
    "    else:\n",
    "        pp=Pipeline([('vect',vect),('nb',nb)])\n",
    "    pp.fit(X_train,y_train)\n",
    "    pred=pp.predict(X_test)\n",
    "    f1_weighted=f1_score(y_test,pred,average='macro')\n",
    "    # df_X_train=pd.DataFrame(X_train_ved.toarray(),columns=vectorizer.get_feature_names_out()) #查看矩阵形式\n",
    "    return f1_weighted"
   ]
  },
  {
   "cell_type": "markdown",
   "metadata": {
    "pycharm": {
     "name": "#%% md\n"
    }
   },
   "source": [
    "# 实验1：应该使用GaussianNB还是MultinomialNB？"
   ]
  },
  {
   "cell_type": "code",
   "execution_count": 4,
   "metadata": {
    "pycharm": {
     "name": "#%%\n"
    }
   },
   "outputs": [
    {
     "name": "stdout",
     "output_type": "stream",
     "text": [
      "MultinomialNB的加权F1 0.9440695360360671\n",
      "GaussianNB的加权F1 0.9276497366606062\n"
     ]
    }
   ],
   "source": [
    "#由于内存问题，对比时选用四类数据\n",
    "news = fetch_20newsgroups(subset='all',categories=['alt.atheism', 'talk.religion.misc','comp.graphics', 'sci.space'])\n",
    "D =train_test_split(news.data,news.target,test_size=0.2, random_state=2023)\n",
    "#控制变量，使用相同的特征提取器\n",
    "vect=TfidfVectorizer(stop_words='english')\n",
    "#使用两种分类器\n",
    "mnb=MultinomialNB(alpha=0.1)\n",
    "gnb=GaussianNB()\n",
    "#预测且评价\n",
    "print('MultinomialNB的加权F1',train_val(D,vect,mnb))\n",
    "print('GaussianNB的加权F1',train_val(D,vect,gnb,True))"
   ]
  },
  {
   "cell_type": "markdown",
   "metadata": {
    "pycharm": {
     "name": "#%% md\n"
    }
   },
   "source": [
    "#### 实验1结论：性能上，MultinomialNB表现更优，且接收稀疏矩阵传入，大大减少了时空复杂度，因此该选用MultinomialNB。对于后续实验，选定分类器为MultinomialNB，此时由于其接收稀疏矩阵的特性，可以选取所有的数据集，而不用固定4类"
   ]
  },
  {
   "cell_type": "markdown",
   "metadata": {
    "pycharm": {
     "name": "#%% md\n"
    }
   },
   "source": [
    "# 实验2：使用相同的训练集和测试集，比较CountVectorizer和TfidfVectorizer的效果"
   ]
  },
  {
   "cell_type": "markdown",
   "metadata": {
    "pycharm": {
     "name": "#%% md\n"
    }
   },
   "source": [
    "# 实验 3：考察停用词的作用"
   ]
  },
  {
   "cell_type": "code",
   "execution_count": 5,
   "metadata": {
    "pycharm": {
     "name": "#%%\n"
    }
   },
   "outputs": [
    {
     "name": "stdout",
     "output_type": "stream",
     "text": [
      "CountVectorizer的加权F1(无停用词) 0.8354009079661232\n",
      "TfidfVectorizer的加权F1（无停用词） 0.8341839021793735\n",
      "CountVectorizer的加权F1(有停用词) 0.8661911054593976\n",
      "TfidfVectorizer的加权F1（有停用词） 0.8689426147222381\n"
     ]
    }
   ],
   "source": [
    "news = fetch_20newsgroups(subset='all')\n",
    "D =train_test_split(news.data,news.target,test_size=0.2, random_state=2023)\n",
    "#控制变量，使用相同的分类器\n",
    "mnb=MultinomialNB()\n",
    "#使用两种特征提取器\n",
    "cv_sw=CountVectorizer(stop_words='english')\n",
    "tv_sw=TfidfVectorizer(stop_words='english')\n",
    "cv=CountVectorizer()\n",
    "tv=TfidfVectorizer()\n",
    "#预测且评价\n",
    "print('CountVectorizer的加权F1(无停用词)',train_val(D,cv,mnb))\n",
    "print('TfidfVectorizer的加权F1（无停用词）',train_val(D,tv,mnb))\n",
    "print('CountVectorizer的加权F1(有停用词)',train_val(D,cv_sw,mnb))\n",
    "print('TfidfVectorizer的加权F1（有停用词）',train_val(D,tv_sw,mnb))"
   ]
  },
  {
   "cell_type": "markdown",
   "metadata": {
    "pycharm": {
     "name": "#%% md\n"
    }
   },
   "source": [
    "#### 结论：【回答问题二】一方面，在同有停用词或同无停用词的条件下，CountVectorizer与TfidfVectorizer的性能差异不大。【回答问题 三】另一方面，无论CountVectorizer或TfidfVectorizer都被停用词的引入显著提高了预测效果"
   ]
  },
  {
   "cell_type": "markdown",
   "metadata": {
    "pycharm": {
     "name": "#%% md\n"
    }
   },
   "source": [
    "# 实验 4：考察Tf–idf 平滑的作用"
   ]
  },
  {
   "cell_type": "code",
   "execution_count": 6,
   "metadata": {
    "pycharm": {
     "name": "#%%\n"
    }
   },
   "outputs": [
    {
     "name": "stdout",
     "output_type": "stream",
     "text": [
      "TfidfVectorizer的加权F1（有平滑） 0.8341839021793735\n",
      "TfidfVectorizer的加权F1（无平滑） 0.8339279271757325\n"
     ]
    }
   ],
   "source": [
    "tv=TfidfVectorizer()\n",
    "tv_no_smooth=TfidfVectorizer(smooth_idf=False)\n",
    "print('TfidfVectorizer的加权F1（有平滑）',train_val(D,tv,mnb))\n",
    "print('TfidfVectorizer的加权F1（无平滑）',train_val(D,tv_no_smooth,mnb))"
   ]
  },
  {
   "cell_type": "markdown",
   "metadata": {
    "pycharm": {
     "name": "#%% md\n"
    }
   },
   "source": [
    "### 结论：有平滑小小的提升"
   ]
  },
  {
   "cell_type": "markdown",
   "metadata": {
    "pycharm": {
     "name": "#%% md\n"
    }
   },
   "source": [
    "# 实验五 交叉验证"
   ]
  },
  {
   "cell_type": "code",
   "execution_count": 5,
   "metadata": {
    "pycharm": {
     "name": "#%%\n"
    }
   },
   "outputs": [
    {
     "name": "stdout",
     "output_type": "stream",
     "text": [
      "Fitting 5 folds for each of 3 candidates, totalling 15 fits\n",
      "0.8843501326259947\n",
      "{'nb__alpha': 1}\n"
     ]
    }
   ],
   "source": [
    "news = fetch_20newsgroups(subset='all')\n",
    "X_train,X_test, y_train, y_test =train_test_split(news.data,news.target,test_size=0.2, random_state=2023)\n",
    "vect=TfidfVectorizer(stop_words='english')\n",
    "nb=MultinomialNB()\n",
    "parameters = {'nb__alpha': [1,2,3]}\n",
    "pp=Pipeline([('vect',vect),('nb',nb)])\n",
    "gs = GridSearchCV(pp, \n",
    "                  parameters, \n",
    "                  scoring = ['accuracy','f1_macro'], \n",
    "                  verbose=2,\n",
    "                  refit='accuracy',\n",
    "                  cv=5,\n",
    "                  n_jobs=-1)\n",
    "# 执行多线程并行网格搜索。\n",
    "time_= gs.fit(X_train, y_train)\n",
    "gs.best_params_, gs.best_score_\n",
    "\n",
    "# 输出最佳模型在测试集上的准确性。\n",
    "print(gs.score(X_test, y_test))\n",
    "print(gs.best_params_)\n"
   ]
  },
  {
   "cell_type": "markdown",
   "source": [
    "# 结论:最优参数为1"
   ],
   "metadata": {
    "collapsed": false,
    "pycharm": {
     "name": "#%% md\n"
    }
   }
  }
 ],
 "metadata": {
  "kernelspec": {
   "display_name": "Python 3 (ipykernel)",
   "language": "python",
   "name": "python3"
  },
  "language_info": {
   "codemirror_mode": {
    "name": "ipython",
    "version": 3
   },
   "file_extension": ".py",
   "mimetype": "text/x-python",
   "name": "python",
   "nbconvert_exporter": "python",
   "pygments_lexer": "ipython3",
   "version": "3.9.12"
  }
 },
 "nbformat": 4,
 "nbformat_minor": 1
}