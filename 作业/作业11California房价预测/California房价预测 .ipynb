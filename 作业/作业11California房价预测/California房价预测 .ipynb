{
 "cells": [
  {
   "cell_type": "code",
   "execution_count": null,
   "id": "56467f04",
   "metadata": {
    "pycharm": {
     "name": "#%%\n"
    }
   },
   "outputs": [],
   "source": []
  },
  {
   "cell_type": "code",
   "execution_count": 3,
   "id": "d834b077",
   "metadata": {
    "pycharm": {
     "name": "#%%\n"
    }
   },
   "outputs": [],
   "source": [
    "#!/usr/bin/python\n",
    "# -*- coding: utf-8 -*-\n",
    "# @author: GJH\n",
    "# @file: California预测\n",
    "# @time: 2023/4/15,14:28\n",
    "from sklearn.datasets import fetch_california_housing\n",
    "from sklearn.linear_model import HuberRegressor,LinearRegression,Ridge\n",
    "from sklearn.metrics import mean_absolute_error,mean_squared_error,r2_score\n",
    "from sklearn.svm import SVR\n",
    "from sklearn.model_selection import train_test_split\n",
    "from sklearn.neighbors import KNeighborsRegressor\n",
    "from sklearn.pipeline import make_pipeline\n",
    "from sklearn.preprocessing import StandardScaler\n",
    "from sklearn.svm import LinearSVR\n",
    "\n",
    "def generate_rgs(ss=True,random_state=2023):\n",
    "    names = ['LinearRegression',\n",
    "             'Ridge',\n",
    "             'HuberRegressor',\n",
    "             'KNeighborsRegressor',\n",
    "             'mobel_svr_rbf',\n",
    "             'mobel_svr_poly',\n",
    "             'mobel_svr_linear'\n",
    "             ]\n",
    "    regressioners = [\n",
    "        LinearRegression(copy_X=True,fit_intercept=True),\n",
    "        Ridge(alpha=1.5),\n",
    "        HuberRegressor(alpha=1,epsilon=1.35),\n",
    "        KNeighborsRegressor(n_neighbors=5),\n",
    "        SVR(kernel='rbf'),\n",
    "        SVR(kernel='poly'),\n",
    "        SVR(kernel='linear')\n",
    "    ]\n",
    "\n",
    "\n",
    "    if ss:\n",
    "        regressioners=[make_pipeline(StandardScaler(), rgs) for rgs in regressioners]\n",
    "\n",
    "    if random_state is not None:\n",
    "        for rgs in regressioners:\n",
    "            rgs.random_state = random_state\n",
    "    return dict(zip(names, regressioners))"
   ]
  },
  {
   "cell_type": "code",
   "execution_count": null,
   "id": "775fbe57",
   "metadata": {
    "pycharm": {
     "name": "#%%\n"
    }
   },
   "outputs": [
    {
     "name": "stdout",
     "output_type": "stream",
     "text": [
      "here\n",
      "LinearRegression :\t mse=0.5261125681114348\tmae=0.5324596803886334\tr2=0.6175299421375928\t\n",
      "here\n",
      "Ridge :\t mse=0.5261489391077333\tmae=0.5324835028596581\tr2=0.6175035013758587\t\n",
      "here\n",
      "HuberRegressor :\t mse=0.6685915645691716\tmae=0.5858351731187117\tr2=0.5139514433098933\t\n",
      "here\n",
      "KNeighborsRegressor :\t mse=1.1504981737260969\tmae=0.8268306589147287\tr2=0.1636179598309615\t\n",
      "here\n"
     ]
    },
    {
     "name": "stderr",
     "output_type": "stream",
     "text": [
      "d:\\ProgramData\\Anaconda3\\lib\\site-packages\\sklearn\\linear_model\\_huber.py:332: ConvergenceWarning: lbfgs failed to converge (status=1):\n",
      "STOP: TOTAL NO. of ITERATIONS REACHED LIMIT.\n",
      "\n",
      "Increase the number of iterations (max_iter) or scale the data as shown in:\n",
      "    https://scikit-learn.org/stable/modules/preprocessing.html\n",
      "  self.n_iter_ = _check_optimize_result(\"lbfgs\", opt_res, self.max_iter)\n"
     ]
    },
    {
     "name": "stdout",
     "output_type": "stream",
     "text": [
      "mobel_svr_rbf :\t mse=1.4205332445861407\tmae=0.8910230588326565\tr2=-0.03269046432902667\t\n",
      "here\n",
      "mobel_svr_poly :\t mse=1.4348608101902716\tmae=0.8926776260587542\tr2=-0.04310622927703034\t\n",
      "here\n"
     ]
    }
   ],
   "source": [
    "\n",
    "\n",
    "def cal_(y_pre, y_test):\n",
    "    mse = mean_squared_error(y_pre,y_test)\n",
    "    mae = mean_absolute_error(y_pre,y_test)\n",
    "    r2 = r2_score(y_pre,y_test)\n",
    "    return mse,mae,r2\n",
    "def trainer(data,target,rad=2023):\n",
    "    X_train,X_test,y_train,y_test = train_test_split(data,target,test_size = 0.2,random_state = rad)\n",
    "    rgs_dict=generate_rgs(False)\n",
    "    for name,rgs in rgs_dict.items():\n",
    "        print('here')\n",
    "        rgs.fit(X_train, y_train)\n",
    "        y_pre=rgs.predict(X_test)\n",
    "        mse,mae,r2=cal_( y_test,y_pre)\n",
    "\n",
    "        print(name,':\\t','mse={}\\tmae={}\\tr2={}\\t'.format(mse,mae,r2))\n",
    "if __name__=='__main__':\n",
    "    california_housing = fetch_california_housing()\n",
    "\n",
    "    data = california_housing.data\n",
    "\n",
    "    target = california_housing.target\n",
    "    trainer(data,target)"
   ]
  },
  {
   "cell_type": "code",
   "execution_count": 9,
   "id": "e6ddee47",
   "metadata": {
    "pycharm": {
     "name": "#%%\n"
    }
   },
   "outputs": [
    {
     "name": "stdout",
     "output_type": "stream",
     "text": [
      "R-square 0.6175299421375915\n",
      "MSE 0.5261125681114365\n",
      "MAE 0.5324596803886226\n"
     ]
    }
   ],
   "source": [
    "from sklearn.pipeline import make_pipeline\n",
    "from sklearn.preprocessing import StandardScaler\n",
    "california_housing = fetch_california_housing()\n",
    "\n",
    "data = california_housing.data\n",
    "\n",
    "target = california_housing.target\n",
    "X_train,X_test,y_train,y_test = train_test_split(data,target,test_size = 0.2,random_state = 2023)\n",
    "rgsss=generate_rgs(ss=True,random_state=2023)\n",
    "rgs=rgsss['LinearRegression']\n",
    "rgs.fit(X_train,y_train)\n",
    "y_pred=rgs.predict(X_test)\n",
    "print('R-square',r2_score(y_test, y_pred))\n",
    "print('MSE',mean_squared_error(y_test, y_pred))\n",
    "print('MAE',mean_absolute_error(y_test, y_pred))"
   ]
  },
  {
   "cell_type": "code",
   "execution_count": null,
   "id": "6a5930eb",
   "metadata": {
    "pycharm": {
     "name": "#%%\n"
    }
   },
   "outputs": [],
   "source": []
  }
 ],
 "metadata": {
  "kernelspec": {
   "display_name": "Python 3 (ipykernel)",
   "language": "python",
   "name": "python3"
  },
  "language_info": {
   "codemirror_mode": {
    "name": "ipython",
    "version": 3
   },
   "file_extension": ".py",
   "mimetype": "text/x-python",
   "name": "python",
   "nbconvert_exporter": "python",
   "pygments_lexer": "ipython3",
   "version": "3.9.12"
  }
 },
 "nbformat": 4,
 "nbformat_minor": 5
}