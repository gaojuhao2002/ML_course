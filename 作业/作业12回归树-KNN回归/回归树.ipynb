{
 "cells": [
  {
   "cell_type": "code",
   "execution_count": 3,
   "outputs": [
    {
     "name": "stderr",
     "output_type": "stream",
     "text": [
      "'[image.png]' 不是内部或外部命令，也不是可运行的程序\n",
      "或批处理文件。\n"
     ]
    }
   ],
   "source": [
    "\n",
    "![image.png](attachment:image.png)"
   ],
   "metadata": {
    "collapsed": false,
    "pycharm": {
     "name": "#%%\n"
    }
   }
  },
  {
   "cell_type": "code",
   "execution_count": 2,
   "outputs": [],
   "source": [],
   "metadata": {
    "collapsed": false,
    "pycharm": {
     "name": "#%%\n"
    }
   }
  },
  {
   "cell_type": "code",
   "execution_count": 8,
   "outputs": [
    {
     "name": "stdout",
     "output_type": "stream",
     "text": [
      "dct:x=[6.75]\n",
      "knn:x=[[6.37]]\n"
     ]
    }
   ],
   "source": [
    "x=[[x] for x in range(1,11)]\n",
    "y=[[y] for y in [5.56,5.70,5.91,6.40,6.80,7.05,8.90,8.70,9.00,9.05]]\n",
    "from sklearn.tree import DecisionTreeRegressor\n",
    "from sklearn.neighbors import KNeighborsRegressor\n",
    "dct=DecisionTreeRegressor(max_depth=2)\n",
    "knn=KNeighborsRegressor(n_neighbors=3)\n",
    "dct.fit(x,y)\n",
    "knn.fit(x,y)\n",
    "print('dct:x={}'.format(dct.predict([[4.2]])))\n",
    "print('knn:x={}'.format(knn.predict([[4.2]])))"
   ],
   "metadata": {
    "collapsed": false,
    "pycharm": {
     "name": "#%%\n"
    }
   }
  },
  {
   "cell_type": "code",
   "execution_count": 42,
   "outputs": [
    {
     "name": "stdout",
     "output_type": "stream",
     "text": [
      "0.5 19.11421\n",
      "1.5 15.723088888888888\n",
      "2.5 12.083387500000002\n",
      "3.5 8.365638095238097\n",
      "4.5 5.775475000000003\n",
      "5.5 3.9113200000000017\n",
      "6.5 1.9300083333333338\n",
      "7.5 8.009809523809526\n",
      "8.5 11.7354\n",
      "9.5 15.738600000000002\n",
      "10.5 19.11421\n",
      "1.9300083333333338 6.5\n"
     ]
    },
    {
     "name": "stderr",
     "output_type": "stream",
     "text": [
      "C:\\Users\\Atlias\\AppData\\Local\\Temp\\ipykernel_13196\\1060305150.py:5: RuntimeWarning: Mean of empty slice.\n",
      "  R1=c1.mean()\n",
      "C:\\Users\\Atlias\\AppData\\Local\\Temp\\ipykernel_13196\\1060305150.py:6: RuntimeWarning: Mean of empty slice.\n",
      "  R2=c2.mean()\n"
     ]
    }
   ],
   "source": [
    "import numpy as np\n",
    "def cal(s,x,y):\n",
    "    c1=y[x<s]\n",
    "    c2=y[x>=s]\n",
    "    R1=c1.mean()\n",
    "    R2=c2.mean()\n",
    "    return sum((c1-R1)**2)+sum((c2-R2)**2)\n",
    "\n",
    "x=np.array(range(1,11))\n",
    "y=np.array([5.56,5.70,5.91,6.40,6.80,7.05,8.90,8.70,9.00,9.05])\n",
    "\n",
    "\n",
    "def Single_Node(spliter_list):\n",
    "    Min,spliter=1e6666666,666666\n",
    "    for s in spliter_list:\n",
    "        mse=cal(s,x,y)\n",
    "        print(s,mse)\n",
    "        if mse<=Min:\n",
    "            Min,spliter=mse,s\n",
    "    return Min,spliter\n",
    "\n",
    "\n",
    "Init_spliter_list=np.array([x+0.5 for x in range(1,10)])\n",
    "Min,spliter=Single_Node(Init_spliter_list)\n",
    "print(Min,spliter)\n"
   ],
   "metadata": {
    "collapsed": false,
    "pycharm": {
     "name": "#%%\n"
    }
   }
  },
  {
   "cell_type": "code",
   "execution_count": 43,
   "outputs": [
    {
     "data": {
      "text/plain": "6.369999999999999"
     },
     "execution_count": 43,
     "metadata": {},
     "output_type": "execute_result"
    }
   ],
   "source": [
    "(1/3)*(5.91+6.4+6.8)\n"
   ],
   "metadata": {
    "collapsed": false,
    "pycharm": {
     "name": "#%%\n"
    }
   }
  },
  {
   "cell_type": "code",
   "execution_count": 36,
   "outputs": [
    {
     "name": "stdout",
     "output_type": "stream",
     "text": [
      "1.5 1.3086799999999994\n",
      "2.5 0.7539999999999994\n",
      "3.5 0.27706666666666646\n",
      "4.5 0.43672500000000053\n",
      "5.5 1.0643200000000004\n",
      "6.5 1.8581333333333332\n",
      "0.27706666666666646 3.5\n"
     ]
    },
    {
     "name": "stderr",
     "output_type": "stream",
     "text": [
      "C:\\Users\\Atlias\\AppData\\Local\\Temp\\ipykernel_13196\\2367811693.py:6: RuntimeWarning: Mean of empty slice.\n",
      "  R2=c2.mean()\n"
     ]
    }
   ],
   "source": [
    "x=np.array(range(1,11))[:6]\n",
    "y=np.array([5.56,5.70,5.91,6.40,6.80,7.05,8.90,8.70,9.00,9.05])[:6]\n",
    "list_=Init_spliter_list[:6]\n",
    "Min,spliter=Single_Node(list_)\n",
    "print(Min,spliter)"
   ],
   "metadata": {
    "collapsed": false,
    "pycharm": {
     "name": "#%%\n"
    }
   }
  },
  {
   "cell_type": "code",
   "execution_count": 40,
   "outputs": [
    {
     "name": "stdout",
     "output_type": "stream",
     "text": [
      "7.5 0.07166666666666717\n",
      "8.5 0.021250000000000248\n",
      "9.5 0.046666666666666926\n",
      "0.021250000000000248 8.5\n"
     ]
    }
   ],
   "source": [
    "x=np.array(range(1,11))[6:]\n",
    "y=np.array([5.56,5.70,5.91,6.40,6.80,7.05,8.90,8.70,9.00,9.05])[6:]\n",
    "list_=Init_spliter_list[6:]\n",
    "Min,spliter=Single_Node(list_)\n",
    "print(Min,spliter)"
   ],
   "metadata": {
    "collapsed": false,
    "pycharm": {
     "name": "#%%\n"
    }
   }
  }
 ],
 "metadata": {
  "kernelspec": {
   "display_name": "Python 3 (ipykernel)",
   "language": "python",
   "name": "python3"
  },
  "language_info": {
   "codemirror_mode": {
    "name": "ipython",
    "version": 3
   },
   "file_extension": ".py",
   "mimetype": "text/x-python",
   "name": "python",
   "nbconvert_exporter": "python",
   "pygments_lexer": "ipython3",
   "version": "3.9.12"
  }
 },
 "nbformat": 4,
 "nbformat_minor": 1
}