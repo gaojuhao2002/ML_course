{
 "cells": [
  {
   "cell_type": "code",
   "execution_count": 1,
   "id": "22947d57",
   "metadata": {
    "pycharm": {
     "name": "#%%\n"
    }
   },
   "outputs": [],
   "source": [
    "import pandas as pd\n",
    "df=pd.read_csv(\"dataForExer_linearC.csv\",index_col='ID')"
   ]
  },
  {
   "cell_type": "markdown",
   "id": "9127055b",
   "metadata": {
    "pycharm": {
     "name": "#%% md\n"
    }
   },
   "source": [
    "# 区别有标签和无标签数据"
   ]
  },
  {
   "cell_type": "code",
   "execution_count": 2,
   "id": "70e8059c",
   "metadata": {
    "pycharm": {
     "name": "#%%\n"
    }
   },
   "outputs": [],
   "source": [
    "df_labeled=df[df['Class'].isna()==False]\n",
    "df_unlabeled=df[df['Class'].isna()==True]"
   ]
  },
  {
   "cell_type": "markdown",
   "id": "4a086127",
   "metadata": {
    "pycharm": {
     "name": "#%% md\n"
    }
   },
   "source": [
    "# 7：3划分训练集和验证集，无标签作为测试集"
   ]
  },
  {
   "cell_type": "code",
   "execution_count": 3,
   "id": "d38edd0d",
   "metadata": {
    "pycharm": {
     "name": "#%%\n"
    }
   },
   "outputs": [],
   "source": [
    "train_len=round(len(df_labeled)*(7/10))\n",
    "train=df_labeled.iloc[:train_len,:]\n",
    "val=df_labeled.iloc[train_len:,:]\n",
    "test_x=df_unlabeled.iloc[:,:2]"
   ]
  },
  {
   "cell_type": "markdown",
   "id": "fc39e006",
   "metadata": {
    "pycharm": {
     "name": "#%% md\n"
    }
   },
   "source": [
    "# 训练模型并给出准确率"
   ]
  },
  {
   "cell_type": "code",
   "execution_count": 4,
   "id": "bc04c35d",
   "metadata": {
    "pycharm": {
     "name": "#%%\n"
    }
   },
   "outputs": [
    {
     "name": "stdout",
     "output_type": "stream",
     "text": [
      "Train score: 1.0\n",
      "Val score: 0.9767441860465116\n"
     ]
    }
   ],
   "source": [
    "from sklearn.linear_model import Perceptron\n",
    "clf=Perceptron()\n",
    "clf.fit(train.iloc[:,:2],train.iloc[:,2])\n",
    "print(\"Train score:\",clf.score(train.iloc[:,:2],train.iloc[:,2]))\n",
    "print(\"Val score:\",clf.score(val.iloc[:,:2],val.iloc[:,2]))"
   ]
  },
  {
   "cell_type": "markdown",
   "id": "656107d9",
   "metadata": {
    "pycharm": {
     "name": "#%% md\n"
    }
   },
   "source": [
    "# 预测无标签数据"
   ]
  },
  {
   "cell_type": "code",
   "execution_count": 5,
   "id": "c7114a06",
   "metadata": {
    "pycharm": {
     "name": "#%%\n"
    }
   },
   "outputs": [],
   "source": [
    "test_y_pred=clf.predict(test_x)"
   ]
  },
  {
   "cell_type": "code",
   "execution_count": 6,
   "id": "4745ee0c",
   "metadata": {
    "pycharm": {
     "name": "#%%\n"
    }
   },
   "outputs": [
    {
     "data": {
      "text/plain": [
       "array([-1., -1., -1., -1.,  1., -1.,  1.,  1.])"
      ]
     },
     "execution_count": 6,
     "metadata": {},
     "output_type": "execute_result"
    }
   ],
   "source": [
    "test_y_pred"
   ]
  },
  {
   "cell_type": "code",
   "execution_count": 7,
   "id": "482aca5c",
   "metadata": {
    "pycharm": {
     "name": "#%%\n"
    }
   },
   "outputs": [],
   "source": [
    "test=test_x.copy()\n",
    "test['Class']=test_y_pred"
   ]
  },
  {
   "cell_type": "markdown",
   "id": "5864e8af",
   "metadata": {
    "pycharm": {
     "name": "#%% md\n"
    }
   },
   "source": [
    "# 可视化"
   ]
  },
  {
   "cell_type": "code",
   "execution_count": null,
   "id": "ab967162",
   "metadata": {
    "pycharm": {
     "name": "#%%\n",
     "is_executing": true
    }
   },
   "outputs": [],
   "source": [
    "import matplotlib.pyplot as plt\n",
    "import numpy as np\n",
    "#-----------------------------------------------------------散点图\n",
    "def plt_appointed_color(color,dataset):\n",
    "    postive=dataset[dataset['Class']==1]\n",
    "    negative=dataset[dataset['Class']==-1]\n",
    "    plt.scatter(postive['x1'],postive['x2'],c=color,marker='o')\n",
    "    plt.scatter(negative['x1'],negative['x2'],c=color,marker='*')\n",
    "plt.figure(figsize=(10,5),dpi=100)\n",
    "for color,dataset in {'k':train,'r':val,'b':test}.items():\n",
    "    plt_appointed_color(color,dataset)\n",
    "#--------------------------------------------------------直线[在x1x2平面上，y=w[0]*x1+w[1]*x2+bias 退化成y=0,事先看一下w[1]是否等于0]\n",
    "w=clf.coef_[0]\n",
    "bias=clf.intercept_\n",
    "a = -w[0] / w[1]\n",
    "b = -bias / w[1]\n",
    "x = np.linspace(-1.5, 1.7, 100)\n",
    "y = a * x + b\n",
    "plt.plot(x, y, color='g')\n",
    "\n",
    "# 填充两个区域并添加标签\n",
    "plt.fill_between(x, y, (a * 2 + b), color='blue', alpha=0.2, label='Negative')\n",
    "plt.fill_between(x, y, (a * (-2) + b), color='red', alpha=0.2, label='Positive')\n",
    "plt.margins(x=0, y=0)#调整间距\n",
    "plt.xlabel('x1')\n",
    "plt.ylabel('x2')\n",
    "plt.legend()\n",
    "plt.show()"
   ]
  },
  {
   "cell_type": "code",
   "execution_count": null,
   "id": "8120a4a4",
   "metadata": {
    "pycharm": {
     "name": "#%%\n"
    }
   },
   "outputs": [],
   "source": []
  }
 ],
 "metadata": {
  "kernelspec": {
   "display_name": "Python 3 (ipykernel)",
   "language": "python",
   "name": "python3"
  },
  "language_info": {
   "codemirror_mode": {
    "name": "ipython",
    "version": 3
   },
   "file_extension": ".py",
   "mimetype": "text/x-python",
   "name": "python",
   "nbconvert_exporter": "python",
   "pygments_lexer": "ipython3",
   "version": "3.9.12"
  }
 },
 "nbformat": 4,
 "nbformat_minor": 5
}