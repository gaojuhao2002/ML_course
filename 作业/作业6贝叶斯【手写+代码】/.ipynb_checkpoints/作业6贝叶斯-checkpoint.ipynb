{
 "cells": [
  {
   "cell_type": "code",
   "execution_count": 1,
   "id": "424834ee",
   "metadata": {},
   "outputs": [],
   "source": [
    "import pandas as pd\n",
    "df=pd.read_excel('PlayTennis训练样本_.xlsx')"
   ]
  },
  {
   "cell_type": "code",
   "execution_count": 2,
   "id": "19dc6c84",
   "metadata": {},
   "outputs": [
    {
     "name": "stdout",
     "output_type": "stream",
     "text": [
      "encoded Outlook\n",
      "encoded Temperature\n",
      "encoded Humidity\n",
      "encoded Wind\n"
     ]
    }
   ],
   "source": [
    "from sklearn.preprocessing import LabelEncoder\n",
    "#不需要解码X，但是y是需要解码的所以单独列出\n",
    "def en_de_code_context(data,unco_context_cols):\n",
    "    label=LabelEncoder()    \n",
    "    for col in unco_context_cols:\n",
    "        data[col]=label.fit_transform(data[col])\n",
    "        print('encoded',col)\n",
    "    return data\n",
    "data=en_de_code_context(df.iloc[:,1:-1].copy(),df.columns.to_list()[1:-1])#给前4个属性直接编码\n",
    "le=LabelEncoder()   \n",
    "train_y=le.fit_transform(df['PlayTennis'].iloc[:-1])#给PlayTennis单独编码,\n",
    "train_X=data.iloc[:-1,:]\n",
    "test_X=data.iloc[[-1],:]"
   ]
  },
  {
   "cell_type": "code",
   "execution_count": 3,
   "id": "8e8113a6",
   "metadata": {},
   "outputs": [
    {
     "name": "stdout",
     "output_type": "stream",
     "text": [
      "D15预测结果为： ['No']\n"
     ]
    }
   ],
   "source": [
    "from sklearn.naive_bayes import CategoricalNB\n",
    "#拉普拉斯平滑默认，为1\n",
    "cnb=CategoricalNB()\n",
    "cnb.fit(train_X,train_y)\n",
    "print('D15预测结果为：',le.inverse_transform(cnb.predict(test_X)))"
   ]
  },
  {
   "cell_type": "code",
   "execution_count": 4,
   "id": "96d663fe",
   "metadata": {},
   "outputs": [
    {
     "data": {
      "text/plain": [
       "array([[0.54041983, 0.45958017]])"
      ]
     },
     "execution_count": 4,
     "metadata": {},
     "output_type": "execute_result"
    }
   ],
   "source": [
    "cnb.predict_proba(test_X)"
   ]
  }
 ],
 "metadata": {
  "kernelspec": {
   "display_name": "Python 3 (ipykernel)",
   "language": "python",
   "name": "python3"
  },
  "language_info": {
   "codemirror_mode": {
    "name": "ipython",
    "version": 3
   },
   "file_extension": ".py",
   "mimetype": "text/x-python",
   "name": "python",
   "nbconvert_exporter": "python",
   "pygments_lexer": "ipython3",
   "version": "3.9.12"
  }
 },
 "nbformat": 4,
 "nbformat_minor": 5
}
