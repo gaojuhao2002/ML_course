{
 "cells": [
  {
   "cell_type": "markdown",
   "id": "d3230bce",
   "metadata": {},
   "source": [
    "# 分类评价"
   ]
  },
  {
   "cell_type": "markdown",
   "id": "132a5032",
   "metadata": {},
   "source": [
    "## 注意点\n",
    "\n",
    "pos_label控制阳性样本，不同类别作为阳性时结果不同"
   ]
  },
  {
   "cell_type": "code",
   "execution_count": 1,
   "id": "45e58983",
   "metadata": {
    "scrolled": true
   },
   "outputs": [
    {
     "name": "stdout",
     "output_type": "stream",
     "text": [
      "准确率： 0.7\n",
      "1为阳性时 -*-*-*-*-*-*-*-*-*-*-*-*-*-*-*-*-*-*-*-*\n",
      "召回率： 0.75\n",
      "精确率： 0.6\n",
      "F1值： 0.6666666666666665\n",
      "0为阳性时 -*-*-*-*-*-*-*-*-*-*-*-*-*-*-*-*-*-*-*-*\n",
      "召回率： 0.6666666666666666\n",
      "精确率： 0.8\n",
      "F1值： 0.7272727272727272\n"
     ]
    }
   ],
   "source": [
    "from sklearn.metrics import f1_score,precision_score,recall_score,accuracy_score\n",
    "y_true = [1, 1, 1, 1, 0, 0, 0, 0, 0, 0]\n",
    "y_pred = [1, 0, 1, 1, 1, 1, 0, 0, 0, 0]\n",
    "\n",
    "accuracy = accuracy_score(y_true, y_pred)\n",
    "print(\"准确率：\", accuracy)\n",
    "def metric_appoint_pos(pos_label):\n",
    "    recall = recall_score(y_true, y_pred, pos_label=pos_label)\n",
    "    precision = precision_score(y_true, y_pred, pos_label=pos_label)\n",
    "    f1 = f1_score(y_true, y_pred, pos_label=pos_label)\n",
    "    print(\"{}为阳性时\".format(pos_label),'-*'*20)\n",
    "    print(\"召回率：\", recall)\n",
    "    print(\"精确率：\", precision)\n",
    "    print(\"F1值：\", f1)\n",
    "metric_appoint_pos(1)\n",
    "metric_appoint_pos(0)"
   ]
  },
  {
   "cell_type": "markdown",
   "id": "8babd299",
   "metadata": {},
   "source": [
    "**macro:宏平均**(Macro-averaging)\n",
    "把每个类别都当成二分类，分别计算出各个类别 对应的precision，recall, f1,然后求所有类别的precision,recal.f1的平均值，得到最终的precision recall f1.这里假设所有分类都是一样的重要，所以 整体结果受小类别(数量比较少的target) 的影响比较大。\n"
   ]
  },
  {
   "cell_type": "markdown",
   "id": "6b45f4d5",
   "metadata": {},
   "source": [
    "**micro:微平均** (Micro-averaging)\n",
    "把各个类别当成二分类，统计各自的混淆矩阵，然后统计加和 比例 得到一个最终的 混淆矩阵，再计算\n",
    "precision，recall，f1."
   ]
  },
  {
   "cell_type": "code",
   "execution_count": 2,
   "id": "4f798cd7",
   "metadata": {},
   "outputs": [
    {
     "name": "stdout",
     "output_type": "stream",
     "text": [
      "方式一计算得到的召回率：0.7083333333333333\n",
      "方式二计算得到的召回率：0.7\n",
      "方式三计算得到的召回率：0.7\n"
     ]
    }
   ],
   "source": [
    "# 计算方式一：将2和3的结果直接平均\n",
    "print(f\"方式一计算得到的召回率：{recall_score(y_true,y_pred,average='macro')}\")\n",
    "# 计算方式二：将2和3的结果加权平均，权重由对应的阳性样本数决定\n",
    "print(f\"方式二计算得到的召回率：{recall_score(y_true,y_pred,average='weighted')}\")\n",
    "# 计算方式三\n",
    "print(f\"方式三计算得到的召回率：{recall_score(y_true, y_pred, average='micro')}\")"
   ]
  },
  {
   "cell_type": "markdown",
   "id": "22e7c38e",
   "metadata": {},
   "source": [
    "## 注意点\n",
    "target_names参数控制结果显示的类别，建议根据分类器的classes_参数获取"
   ]
  },
  {
   "cell_type": "code",
   "execution_count": 4,
   "id": "48a00919",
   "metadata": {},
   "outputs": [
    {
     "name": "stdout",
     "output_type": "stream",
     "text": [
      "                 precision    recall  f1-score   support\n",
      "\n",
      "clf.classes_[0]       0.80      0.67      0.73         6\n",
      "clf.classes_[1]       0.60      0.75      0.67         4\n",
      "\n",
      "       accuracy                           0.70        10\n",
      "      macro avg       0.70      0.71      0.70        10\n",
      "   weighted avg       0.72      0.70      0.70        10\n",
      "\n"
     ]
    }
   ],
   "source": [
    "from sklearn.metrics import classification_report\n",
    "print(classification_report(y_true,y_pred,target_names=['clf.classes_[0]','clf.classes_[1]']))"
   ]
  },
  {
   "cell_type": "code",
   "execution_count": null,
   "id": "199b6136",
   "metadata": {},
   "outputs": [],
   "source": []
  }
 ],
 "metadata": {
  "kernelspec": {
   "display_name": "Python 3 (ipykernel)",
   "language": "python",
   "name": "python3"
  },
  "language_info": {
   "codemirror_mode": {
    "name": "ipython",
    "version": 3
   },
   "file_extension": ".py",
   "mimetype": "text/x-python",
   "name": "python",
   "nbconvert_exporter": "python",
   "pygments_lexer": "ipython3",
   "version": "3.9.12"
  }
 },
 "nbformat": 4,
 "nbformat_minor": 5
}
