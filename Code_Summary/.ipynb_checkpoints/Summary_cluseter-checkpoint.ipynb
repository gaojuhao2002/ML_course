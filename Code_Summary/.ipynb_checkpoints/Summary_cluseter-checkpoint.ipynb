{
 "cells": [
  {
   "cell_type": "markdown",
   "id": "f20103f6",
   "metadata": {},
   "source": [
    "# Kmeans"
   ]
  },
  {
   "cell_type": "code",
   "execution_count": null,
   "id": "8be914d9",
   "metadata": {},
   "outputs": [],
   "source": [
    "from sklearn.cluster import Kmeans\n",
    "class sklearn.cluster.KMeans(n_clusters=8, \n",
    "                             init=’k‐means++’, \n",
    "                             n_init=10, max_iter=300, tol=0.0001, copy_x=True, n_jobs=1, \n",
    "                             precompute_distances=’auto’, verbose=0, random_state=None, \n",
    "algorithm='auto')\n",
    "#cluster_centers_聚类中心\n",
    "#labels_对应的类别\n",
    "#inertia_:每个样本到对应的聚类中心的距离\n"
   ]
  },
  {
   "cell_type": "code",
   "execution_count": null,
   "id": "bdd5dffb",
   "metadata": {},
   "outputs": [],
   "source": []
  },
  {
   "cell_type": "code",
   "execution_count": null,
   "id": "fdd1abb8",
   "metadata": {},
   "outputs": [],
   "source": []
  },
  {
   "cell_type": "code",
   "execution_count": null,
   "id": "ba96e789",
   "metadata": {},
   "outputs": [],
   "source": []
  }
 ],
 "metadata": {
  "kernelspec": {
   "display_name": "Python 3 (ipykernel)",
   "language": "python",
   "name": "python3"
  },
  "language_info": {
   "codemirror_mode": {
    "name": "ipython",
    "version": 3
   },
   "file_extension": ".py",
   "mimetype": "text/x-python",
   "name": "python",
   "nbconvert_exporter": "python",
   "pygments_lexer": "ipython3",
   "version": "3.9.12"
  }
 },
 "nbformat": 4,
 "nbformat_minor": 5
}
