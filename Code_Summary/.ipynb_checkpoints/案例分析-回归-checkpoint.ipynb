{
 "cells": [
  {
   "cell_type": "markdown",
   "id": "18918bcf",
   "metadata": {},
   "source": [
    "# 一、数据导入"
   ]
  },
  {
   "cell_type": "code",
   "execution_count": 1,
   "id": "ed7b6cd1",
   "metadata": {},
   "outputs": [],
   "source": [
    "import pandas as pd\n",
    "df=pd.read_excel('回归数据集.xlsx')\n",
    "X,y=df.iloc[:,:-1],df.iloc[:,-1]# X有12个特征，y有4列\n",
    "from sklearn.model_selection import train_test_split\n",
    "X_train, X_test, y_train, y_test = train_test_split(X,y,test_size=0.2,random_state=2023,shuffle=True)"
   ]
  },
  {
   "cell_type": "markdown",
   "id": "bf5c48ef",
   "metadata": {},
   "source": [
    "# 二、数据预处理"
   ]
  },
  {
   "cell_type": "code",
   "execution_count": 4,
   "id": "3cbe7bd2",
   "metadata": {},
   "outputs": [],
   "source": [
    "from sklearn.preprocessing import StandardScaler\n",
    "t=StandardScaler(with_mean=True,with_std=True)\n",
    "X_train_t=t.fit_transform(X_train)\n",
    "X_test_t=t.transform(X_test)"
   ]
  },
  {
   "cell_type": "markdown",
   "id": "45a44703",
   "metadata": {},
   "source": [
    "# 三、降维"
   ]
  },
  {
   "cell_type": "code",
   "execution_count": 6,
   "id": "bd96fe5e",
   "metadata": {},
   "outputs": [],
   "source": [
    "from sklearn.feature_selection import SelectPercentile\n",
    "from sklearn.feature_selection import f_classif\n",
    "dd=SelectPercentile(score_func=f_classif,percentile=50)\n",
    "X_train_t_dd=dd.fit_transform(X_train_t,y_train)\n",
    "# X_train_t_dd=dd.fit_transform(X_train_t)#方式一，不需要类别信息\n",
    "X_test_t_dd=dd.transform(X_test_t)"
   ]
  },
  {
   "cell_type": "markdown",
   "id": "071d6bd4",
   "metadata": {},
   "source": [
    "# 四、回归"
   ]
  },
  {
   "cell_type": "code",
   "execution_count": 8,
   "id": "2f822d2a",
   "metadata": {},
   "outputs": [
    {
     "data": {
      "text/plain": [
       "KNeighborsRegressor()"
      ]
     },
     "execution_count": 8,
     "metadata": {},
     "output_type": "execute_result"
    }
   ],
   "source": [
    "from sklearn.neighbors import KNeighborsRegressor\n",
    "knr=KNeighborsRegressor(n_neighbors=5)\n",
    "knr.fit(X_train_t_dd,y_train)"
   ]
  },
  {
   "cell_type": "markdown",
   "id": "b6eeb9e2",
   "metadata": {},
   "source": [
    "# 五、评价"
   ]
  },
  {
   "cell_type": "code",
   "execution_count": 11,
   "id": "58f5c022",
   "metadata": {},
   "outputs": [],
   "source": [
    "y_pred=knr.predict(X_test_t_dd)"
   ]
  },
  {
   "cell_type": "code",
   "execution_count": 13,
   "id": "4ea8bf77",
   "metadata": {},
   "outputs": [],
   "source": [
    "from sklearn.metrics import mean_absolute_error,mean_squared_error,r2_score\n",
    "def cal_(y_pre, y_test):\n",
    "    mse = mean_squared_error(y_pre,y_test)\n",
    "    mae = mean_absolute_error(y_pre,y_test)\n",
    "    r2 = r2_score(y_pre,y_test)\n",
    "    return mse,mae,r2"
   ]
  },
  {
   "cell_type": "code",
   "execution_count": 14,
   "id": "d1e9e770",
   "metadata": {},
   "outputs": [
    {
     "name": "stdout",
     "output_type": "stream",
     "text": [
      "(12.266405523809535, 2.933428571428573, 0.38599457729593845)\n"
     ]
    }
   ],
   "source": [
    "print(cal_(y_pred,y_test))"
   ]
  }
 ],
 "metadata": {
  "kernelspec": {
   "display_name": "Python 3 (ipykernel)",
   "language": "python",
   "name": "python3"
  },
  "language_info": {
   "codemirror_mode": {
    "name": "ipython",
    "version": 3
   },
   "file_extension": ".py",
   "mimetype": "text/x-python",
   "name": "python",
   "nbconvert_exporter": "python",
   "pygments_lexer": "ipython3",
   "version": "3.9.12"
  }
 },
 "nbformat": 4,
 "nbformat_minor": 5
}
