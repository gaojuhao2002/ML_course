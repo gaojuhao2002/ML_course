{
 "cells": [
  {
   "cell_type": "markdown",
   "id": "9d6c847f",
   "metadata": {},
   "source": [
    "# 分类评价"
   ]
  },
  {
   "cell_type": "markdown",
   "id": "4ba6f87d",
   "metadata": {},
   "source": [
    "# 注意点\n",
    "\n",
    "pos_label控制阳性样本，不同类别作为阳性时结果不同"
   ]
  },
  {
   "cell_type": "code",
   "execution_count": 1,
   "id": "7366df2b",
   "metadata": {},
   "outputs": [
    {
     "name": "stdout",
     "output_type": "stream",
     "text": [
      "准确率： 0.7\n",
      "1为阳性时 -*-*-*-*-*-*-*-*-*-*-*-*-*-*-*-*-*-*-*-*\n",
      "召回率： 0.75\n",
      "精确率： 0.6\n",
      "F1值： 0.6666666666666665\n",
      "0为阳性时 -*-*-*-*-*-*-*-*-*-*-*-*-*-*-*-*-*-*-*-*\n",
      "召回率： 0.6666666666666666\n",
      "精确率： 0.8\n",
      "F1值： 0.7272727272727272\n"
     ]
    }
   ],
   "source": [
    "from sklearn.metrics import f1_score,precision_score,recall_score,accuracy_score\n",
    "y_true = [1, 1, 1, 1, 0, 0, 0, 0, 0, 0]\n",
    "y_pred = [1, 0, 1, 1, 1, 1, 0, 0, 0, 0]\n",
    "\n",
    "accuracy = accuracy_score(y_true, y_pred)\n",
    "print(\"准确率：\", accuracy)\n",
    "def metric_appoint_pos(pos_label):\n",
    "    recall = recall_score(y_true, y_pred, pos_label=pos_label)\n",
    "    precision = precision_score(y_true, y_pred, pos_label=pos_label)\n",
    "    f1 = f1_score(y_true, y_pred, pos_label=pos_label)\n",
    "    print(\"{}为阳性时\".format(pos_label),'-*'*20)\n",
    "    print(\"召回率：\", recall)\n",
    "    print(\"精确率：\", precision)\n",
    "    print(\"F1值：\", f1)\n",
    "metric_appoint_pos(1)\n",
    "metric_appoint_pos(0)"
   ]
  },
  {
   "cell_type": "code",
   "execution_count": 2,
   "id": "6583c6c0",
   "metadata": {},
   "outputs": [
    {
     "name": "stdout",
     "output_type": "stream",
     "text": [
      "方式一计算得到的召回率：0.7083333333333333\n",
      "方式二计算得到的召回率：0.7\n",
      "方式三计算得到的召回率：0.7\n"
     ]
    }
   ],
   "source": [
    "# 计算方式一：将2和3的结果直接平均\n",
    "print(f\"方式一计算得到的召回率：{recall_score(y_true,y_pred,average='macro')}\")\n",
    "\n",
    "# 计算方式二：将2和3的结果加权平均，权重由对应的阳性样本数决定\n",
    "print(f\"方式二计算得到的召回率：{recall_score(y_true,y_pred,average='weighted')}\")\n",
    "\n",
    "# 计算方式三\n",
    "print(f\"方式三计算得到的召回率：{recall_score(y_true, y_pred, average='micro')}\")\n"
   ]
  },
  {
   "cell_type": "code",
   "execution_count": null,
   "id": "5cb34393",
   "metadata": {},
   "outputs": [],
   "source": [
    "# 注意点\n",
    "\n",
    "target_names参数控制结果显示的类别，建议根据分类器的classes_参数获取"
   ]
  },
  {
   "cell_type": "code",
   "execution_count": null,
   "id": "01aa9bf2",
   "metadata": {},
   "outputs": [],
   "source": [
    "from sklearn.metrics import classification_report\n",
    "print(classification_report(y_true,y_pred))"
   ]
  }
 ],
 "metadata": {
  "kernelspec": {
   "display_name": "Python 3 (ipykernel)",
   "language": "python",
   "name": "python3"
  },
  "language_info": {
   "codemirror_mode": {
    "name": "ipython",
    "version": 3
   },
   "file_extension": ".py",
   "mimetype": "text/x-python",
   "name": "python",
   "nbconvert_exporter": "python",
   "pygments_lexer": "ipython3",
   "version": "3.9.12"
  }
 },
 "nbformat": 4,
 "nbformat_minor": 5
}
