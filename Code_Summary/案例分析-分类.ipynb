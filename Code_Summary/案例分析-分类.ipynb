{
 "cells": [
  {
   "cell_type": "markdown",
   "id": "7ba8be69",
   "metadata": {
    "pycharm": {
     "name": "#%% md\n"
    }
   },
   "source": [
    "# 一、数据导入"
   ]
  },
  {
   "cell_type": "code",
   "execution_count": 1,
   "id": "b0474c90",
   "metadata": {
    "pycharm": {
     "name": "#%%\n"
    }
   },
   "outputs": [],
   "source": [
    "import pandas as pd\n",
    "df=pd.read_excel('分类数据集.xlsx')\n",
    "X,y=df.iloc[:,:-1],df.iloc[:,-1]# X有12个特征，y有4列\n",
    "from sklearn.model_selection import train_test_split\n",
    "X_train, X_test, y_train, y_test = train_test_split(X,y,test_size=0.2,random_state=2023,shuffle=True)"
   ]
  },
  {
   "cell_type": "code",
   "execution_count": 2,
   "id": "f2f7ce95",
   "metadata": {
    "pycharm": {
     "name": "#%%\n"
    }
   },
   "outputs": [
    {
     "data": {
      "text/html": [
       "<div>\n",
       "<style scoped>\n",
       "    .dataframe tbody tr th:only-of-type {\n",
       "        vertical-align: middle;\n",
       "    }\n",
       "\n",
       "    .dataframe tbody tr th {\n",
       "        vertical-align: top;\n",
       "    }\n",
       "\n",
       "    .dataframe thead th {\n",
       "        text-align: right;\n",
       "    }\n",
       "</style>\n",
       "<table border=\"1\" class=\"dataframe\">\n",
       "  <thead>\n",
       "    <tr style=\"text-align: right;\">\n",
       "      <th></th>\n",
       "      <th>特征1</th>\n",
       "      <th>特征2</th>\n",
       "      <th>特征3</th>\n",
       "      <th>特征4</th>\n",
       "      <th>特征5</th>\n",
       "      <th>特征6</th>\n",
       "      <th>特征7</th>\n",
       "      <th>特征8</th>\n",
       "      <th>特征9</th>\n",
       "      <th>特征10</th>\n",
       "      <th>特征11</th>\n",
       "      <th>特征12</th>\n",
       "    </tr>\n",
       "  </thead>\n",
       "  <tbody>\n",
       "    <tr>\n",
       "      <th>count</th>\n",
       "      <td>285.000000</td>\n",
       "      <td>285.000000</td>\n",
       "      <td>285.000000</td>\n",
       "      <td>285.000000</td>\n",
       "      <td>285.000000</td>\n",
       "      <td>2.850000e+02</td>\n",
       "      <td>285.000000</td>\n",
       "      <td>285.000000</td>\n",
       "      <td>285.000000</td>\n",
       "      <td>285.000000</td>\n",
       "      <td>285.000000</td>\n",
       "      <td>285.000000</td>\n",
       "    </tr>\n",
       "    <tr>\n",
       "      <th>mean</th>\n",
       "      <td>4.193885</td>\n",
       "      <td>2.372686</td>\n",
       "      <td>39.657695</td>\n",
       "      <td>24.140837</td>\n",
       "      <td>40277.921077</td>\n",
       "      <td>3.446019e+06</td>\n",
       "      <td>5.367561</td>\n",
       "      <td>71.440205</td>\n",
       "      <td>0.000027</td>\n",
       "      <td>0.000090</td>\n",
       "      <td>-833.080818</td>\n",
       "      <td>43.641683</td>\n",
       "    </tr>\n",
       "    <tr>\n",
       "      <th>std</th>\n",
       "      <td>0.009229</td>\n",
       "      <td>0.251619</td>\n",
       "      <td>1.177859</td>\n",
       "      <td>0.461651</td>\n",
       "      <td>3225.803189</td>\n",
       "      <td>1.734785e+05</td>\n",
       "      <td>1.566913</td>\n",
       "      <td>14.205196</td>\n",
       "      <td>0.000013</td>\n",
       "      <td>0.000088</td>\n",
       "      <td>862.406028</td>\n",
       "      <td>87.139548</td>\n",
       "    </tr>\n",
       "    <tr>\n",
       "      <th>min</th>\n",
       "      <td>4.172034</td>\n",
       "      <td>1.737030</td>\n",
       "      <td>37.080390</td>\n",
       "      <td>22.969923</td>\n",
       "      <td>34768.857013</td>\n",
       "      <td>3.162616e+06</td>\n",
       "      <td>3.172332</td>\n",
       "      <td>45.616416</td>\n",
       "      <td>0.000004</td>\n",
       "      <td>0.000007</td>\n",
       "      <td>-2503.187682</td>\n",
       "      <td>-44.110979</td>\n",
       "    </tr>\n",
       "    <tr>\n",
       "      <th>25%</th>\n",
       "      <td>4.186483</td>\n",
       "      <td>2.140416</td>\n",
       "      <td>38.751283</td>\n",
       "      <td>23.878754</td>\n",
       "      <td>37394.823886</td>\n",
       "      <td>3.340732e+06</td>\n",
       "      <td>4.321113</td>\n",
       "      <td>63.487632</td>\n",
       "      <td>0.000016</td>\n",
       "      <td>0.000029</td>\n",
       "      <td>-1454.557874</td>\n",
       "      <td>-6.631219</td>\n",
       "    </tr>\n",
       "    <tr>\n",
       "      <th>50%</th>\n",
       "      <td>4.197855</td>\n",
       "      <td>2.417717</td>\n",
       "      <td>39.586755</td>\n",
       "      <td>24.107818</td>\n",
       "      <td>40151.703391</td>\n",
       "      <td>3.397332e+06</td>\n",
       "      <td>5.052645</td>\n",
       "      <td>74.870794</td>\n",
       "      <td>0.000027</td>\n",
       "      <td>0.000058</td>\n",
       "      <td>-447.041714</td>\n",
       "      <td>4.414913</td>\n",
       "    </tr>\n",
       "    <tr>\n",
       "      <th>75%</th>\n",
       "      <td>4.200966</td>\n",
       "      <td>2.631344</td>\n",
       "      <td>40.584997</td>\n",
       "      <td>24.406482</td>\n",
       "      <td>43178.125224</td>\n",
       "      <td>3.492656e+06</td>\n",
       "      <td>6.091445</td>\n",
       "      <td>80.659888</td>\n",
       "      <td>0.000035</td>\n",
       "      <td>0.000136</td>\n",
       "      <td>-156.562330</td>\n",
       "      <td>37.310688</td>\n",
       "    </tr>\n",
       "    <tr>\n",
       "      <th>max</th>\n",
       "      <td>4.233325</td>\n",
       "      <td>2.699288</td>\n",
       "      <td>42.239987</td>\n",
       "      <td>26.647374</td>\n",
       "      <td>46723.171766</td>\n",
       "      <td>4.017925e+06</td>\n",
       "      <td>8.305601</td>\n",
       "      <td>95.336050</td>\n",
       "      <td>0.000056</td>\n",
       "      <td>0.000453</td>\n",
       "      <td>-70.780981</td>\n",
       "      <td>281.757710</td>\n",
       "    </tr>\n",
       "  </tbody>\n",
       "</table>\n",
       "</div>"
      ],
      "text/plain": [
       "              特征1         特征2         特征3         特征4           特征5  \\\n",
       "count  285.000000  285.000000  285.000000  285.000000    285.000000   \n",
       "mean     4.193885    2.372686   39.657695   24.140837  40277.921077   \n",
       "std      0.009229    0.251619    1.177859    0.461651   3225.803189   \n",
       "min      4.172034    1.737030   37.080390   22.969923  34768.857013   \n",
       "25%      4.186483    2.140416   38.751283   23.878754  37394.823886   \n",
       "50%      4.197855    2.417717   39.586755   24.107818  40151.703391   \n",
       "75%      4.200966    2.631344   40.584997   24.406482  43178.125224   \n",
       "max      4.233325    2.699288   42.239987   26.647374  46723.171766   \n",
       "\n",
       "                特征6         特征7         特征8         特征9        特征10  \\\n",
       "count  2.850000e+02  285.000000  285.000000  285.000000  285.000000   \n",
       "mean   3.446019e+06    5.367561   71.440205    0.000027    0.000090   \n",
       "std    1.734785e+05    1.566913   14.205196    0.000013    0.000088   \n",
       "min    3.162616e+06    3.172332   45.616416    0.000004    0.000007   \n",
       "25%    3.340732e+06    4.321113   63.487632    0.000016    0.000029   \n",
       "50%    3.397332e+06    5.052645   74.870794    0.000027    0.000058   \n",
       "75%    3.492656e+06    6.091445   80.659888    0.000035    0.000136   \n",
       "max    4.017925e+06    8.305601   95.336050    0.000056    0.000453   \n",
       "\n",
       "              特征11        特征12  \n",
       "count   285.000000  285.000000  \n",
       "mean   -833.080818   43.641683  \n",
       "std     862.406028   87.139548  \n",
       "min   -2503.187682  -44.110979  \n",
       "25%   -1454.557874   -6.631219  \n",
       "50%    -447.041714    4.414913  \n",
       "75%    -156.562330   37.310688  \n",
       "max     -70.780981  281.757710  "
      ]
     },
     "execution_count": 2,
     "metadata": {},
     "output_type": "execute_result"
    }
   ],
   "source": [
    "X_train.describe()# 可见特征间的量级差异较大，需要预处理。"
   ]
  },
  {
   "cell_type": "markdown",
   "id": "df7c7af6",
   "metadata": {
    "pycharm": {
     "name": "#%% md\n"
    }
   },
   "source": [
    "# 二、数据预处理"
   ]
  },
  {
   "cell_type": "code",
   "execution_count": 3,
   "id": "34ef789a",
   "metadata": {
    "pycharm": {
     "name": "#%%\n"
    }
   },
   "outputs": [],
   "source": [
    "from sklearn.preprocessing import Binarizer,MaxAbsScaler,MinMaxScaler,Normalizer,StandardScaler,RobustScaler\n",
    "# transformer = Binarizer(threshold=0.0,copy=True)# 二值化\n",
    "# transformer = MaxAbsScaler(copy=True)#除以每一列的最大值\n",
    "# transformer=MinMaxScaler(feature_range=(0,1),clip=False,copy=True)#把值定到【0，1】闭区间，\n",
    "# transformer=Normalizer(norm='l2',copy=True)\n",
    "t=StandardScaler(with_mean=True,with_std=True)\n",
    "# transformer=RobustScaler"
   ]
  },
  {
   "cell_type": "code",
   "execution_count": 4,
   "id": "1302640a",
   "metadata": {
    "pycharm": {
     "name": "#%%\n"
    }
   },
   "outputs": [],
   "source": [
    "X_train_t=t.fit_transform(X_train)\n",
    "X_test_t=t.transform(X_test)"
   ]
  },
  {
   "cell_type": "markdown",
   "id": "56c541ff",
   "metadata": {
    "pycharm": {
     "name": "#%% md\n"
    }
   },
   "source": [
    "# 三、降维"
   ]
  },
  {
   "cell_type": "code",
   "execution_count": 5,
   "id": "0933fa16",
   "metadata": {
    "pycharm": {
     "name": "#%%\n"
    }
   },
   "outputs": [],
   "source": [
    "## 方式一\n",
    "from sklearn.decomposition import PCA\n",
    "dd=PCA(n_components=5)\n",
    "## 方式二\n",
    "from sklearn.discriminant_analysis import LinearDiscriminantAnalysis\n",
    "dd=LinearDiscriminantAnalysis(n_components=5)\n",
    "## 方式组三\n",
    "from sklearn.feature_selection import SelectKBest\n",
    "from sklearn.feature_selection import f_classif,mutual_info_classif,chi2#分类\n",
    "from sklearn.feature_selection import f_regression,mutual_info_regression#回归\n",
    "dd=SelectKBest(score_func=f_classif,k=5)\n",
    "## 方式组四   按比例\n",
    "from sklearn.feature_selection import SelectPercentile\n",
    "dd=SelectPercentile(score_func=f_classif,percentile=50)"
   ]
  },
  {
   "cell_type": "code",
   "execution_count": 6,
   "id": "12e5543d",
   "metadata": {
    "pycharm": {
     "name": "#%%\n"
    }
   },
   "outputs": [],
   "source": [
    "X_train_t_dd=dd.fit_transform(X_train_t,y_train)\n",
    "# X_train_t_dd=dd.fit_transform(X_train_t)#方式一，不需要类别信息\n",
    "X_test_t_dd=dd.transform(X_test_t)"
   ]
  },
  {
   "cell_type": "markdown",
   "id": "dfc0708e",
   "metadata": {
    "pycharm": {
     "name": "#%% md\n"
    }
   },
   "source": [
    "# 四、聚类"
   ]
  },
  {
   "cell_type": "code",
   "execution_count": 7,
   "id": "75d88cde",
   "metadata": {
    "pycharm": {
     "name": "#%%\n"
    }
   },
   "outputs": [],
   "source": [
    "from sklearn.metrics import silhouette_score,silhouette_samples\n",
    "from sklearn.cluster import DBSCAN,AgglomerativeClustering,KMeans\n",
    "cls=DBSCAN(eps=1.1, min_samples=2)\n",
    "cls=AgglomerativeClustering(n_clusters=3, linkage='single')\n",
    "cls=KMeans(n_clusters=3,\n",
    "           init='k-means++',#np.array([[0, 0], [0, 1], [3, 1]])可以自定义\n",
    "           n_init=10,#重复10次取平均\n",
    "          )"
   ]
  },
  {
   "cell_type": "code",
   "execution_count": 8,
   "id": "0c2cba23",
   "metadata": {
    "pycharm": {
     "name": "#%%\n"
    }
   },
   "outputs": [
    {
     "data": {
      "text/plain": [
       "KMeans(n_clusters=3)"
      ]
     },
     "execution_count": 8,
     "metadata": {},
     "output_type": "execute_result"
    }
   ],
   "source": [
    "cls.fit(X_train_t_dd)\n",
    "#计算轮廓系数\n",
    "# s_score=silhouette_score(X_train_t_dd,y_train)\n",
    "# s_sample=silhouette_score(X_train_t_dd,y_train)"
   ]
  },
  {
   "cell_type": "markdown",
   "id": "3fd8bb3e",
   "metadata": {
    "pycharm": {
     "name": "#%% md\n"
    }
   },
   "source": [
    "# 五、分类"
   ]
  },
  {
   "cell_type": "code",
   "execution_count": 9,
   "id": "fc0df106",
   "metadata": {
    "pycharm": {
     "name": "#%%\n"
    }
   },
   "outputs": [
    {
     "data": {
      "text/plain": [
       "KNeighborsClassifier()"
      ]
     },
     "execution_count": 9,
     "metadata": {},
     "output_type": "execute_result"
    }
   ],
   "source": [
    "# 以KNN为例\n",
    "from sklearn.neighbors import KNeighborsClassifier\n",
    "clf=KNeighborsClassifier(n_neighbors=5)\n",
    "clf.fit(X_train_t_dd,y_train)"
   ]
  },
  {
   "cell_type": "code",
   "execution_count": 10,
   "id": "62972c9a",
   "metadata": {
    "pycharm": {
     "name": "#%%\n"
    }
   },
   "outputs": [],
   "source": [
    "y_pred=clf.predict(X_test_t_dd)"
   ]
  },
  {
   "cell_type": "markdown",
   "id": "f87f3719",
   "metadata": {
    "pycharm": {
     "name": "#%% md\n"
    }
   },
   "source": [
    "# 六、评价"
   ]
  },
  {
   "cell_type": "code",
   "execution_count": 11,
   "id": "f168b8be",
   "metadata": {
    "pycharm": {
     "name": "#%%\n"
    }
   },
   "outputs": [
    {
     "name": "stdout",
     "output_type": "stream",
     "text": [
      "              precision    recall  f1-score   support\n",
      "\n",
      "           1       0.90      1.00      0.95        18\n",
      "           2       0.94      0.89      0.91        18\n",
      "           3       1.00      0.85      0.92        20\n",
      "           4       0.89      1.00      0.94        16\n",
      "\n",
      "    accuracy                           0.93        72\n",
      "   macro avg       0.93      0.93      0.93        72\n",
      "weighted avg       0.94      0.93      0.93        72\n",
      "\n"
     ]
    }
   ],
   "source": [
    "from sklearn.metrics import accuracy_score,recall_score, precision_score, f1_score\n",
    "from sklearn.metrics import classification_report\n",
    "print(classification_report(y_test,y_pred))"
   ]
  },
  {
   "cell_type": "code",
   "execution_count": 12,
   "id": "4ce72bbd",
   "metadata": {
    "pycharm": {
     "name": "#%%\n"
    }
   },
   "outputs": [
    {
     "name": "stdout",
     "output_type": "stream",
     "text": [
      "{'precision': 0.9, 'recall': 1.0, 'f1-score': 0.9473684210526316, 'support': 18}\n"
     ]
    }
   ],
   "source": [
    "print(classification_report(y_test,y_pred,output_dict=True)['1'])"
   ]
  },
  {
   "cell_type": "markdown",
   "id": "0ec12a10",
   "metadata": {
    "pycharm": {
     "name": "#%% md\n"
    }
   },
   "source": [
    "# 七、模型发布"
   ]
  },
  {
   "cell_type": "code",
   "execution_count": 15,
   "id": "9a0284d4",
   "metadata": {
    "pycharm": {
     "name": "#%%\n"
    }
   },
   "outputs": [
    {
     "data": {
      "text/plain": [
       "KNeighborsClassifier()"
      ]
     },
     "execution_count": 15,
     "metadata": {},
     "output_type": "execute_result"
    }
   ],
   "source": [
    "t=StandardScaler(with_mean=True,with_std=True)\n",
    "dd=SelectPercentile(score_func=f_classif,percentile=50)\n",
    "clf=KNeighborsClassifier(n_neighbors=5)\n",
    "X_=t.fit_transform(X)\n",
    "X__=dd.fit_transform(X_,y)\n",
    "clf.fit(X__,y)"
   ]
  }
 ],
 "metadata": {
  "kernelspec": {
   "display_name": "Python 3 (ipykernel)",
   "language": "python",
   "name": "python3"
  },
  "language_info": {
   "codemirror_mode": {
    "name": "ipython",
    "version": 3
   },
   "file_extension": ".py",
   "mimetype": "text/x-python",
   "name": "python",
   "nbconvert_exporter": "python",
   "pygments_lexer": "ipython3",
   "version": "3.9.12"
  }
 },
 "nbformat": 4,
 "nbformat_minor": 5
}